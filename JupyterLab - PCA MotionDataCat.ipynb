{
 "cells": [
  {
   "cell_type": "code",
   "execution_count": 1,
   "id": "a1b36581-dfda-4644-bdcc-fe0d468effea",
   "metadata": {
    "tags": []
   },
   "outputs": [
    {
     "name": "stdout",
     "output_type": "stream",
     "text": [
      "Requirement already satisfied: geopandas in /opt/conda/lib/python3.9/site-packages (0.11.1)\n",
      "Requirement already satisfied: shapely<2,>=1.7 in /opt/conda/lib/python3.9/site-packages (from geopandas) (1.8.4)\n",
      "Requirement already satisfied: packaging in /opt/conda/lib/python3.9/site-packages (from geopandas) (20.9)\n",
      "Requirement already satisfied: pyproj>=2.6.1.post1 in /opt/conda/lib/python3.9/site-packages (from geopandas) (3.4.0)\n",
      "Requirement already satisfied: fiona>=1.8 in /opt/conda/lib/python3.9/site-packages (from geopandas) (1.8.21)\n",
      "Requirement already satisfied: pandas>=1.0.0 in /opt/conda/lib/python3.9/site-packages (from geopandas) (1.2.4)\n",
      "Requirement already satisfied: click-plugins>=1.0 in /opt/conda/lib/python3.9/site-packages (from fiona>=1.8->geopandas) (1.1.1)\n",
      "Requirement already satisfied: cligj>=0.5 in /opt/conda/lib/python3.9/site-packages (from fiona>=1.8->geopandas) (0.7.2)\n",
      "Requirement already satisfied: setuptools in /opt/conda/lib/python3.9/site-packages (from fiona>=1.8->geopandas) (49.6.0.post20210108)\n",
      "Requirement already satisfied: attrs>=17 in /opt/conda/lib/python3.9/site-packages (from fiona>=1.8->geopandas) (21.2.0)\n",
      "Requirement already satisfied: six>=1.7 in /opt/conda/lib/python3.9/site-packages (from fiona>=1.8->geopandas) (1.16.0)\n",
      "Requirement already satisfied: munch in /opt/conda/lib/python3.9/site-packages (from fiona>=1.8->geopandas) (2.5.0)\n",
      "Requirement already satisfied: certifi in /opt/conda/lib/python3.9/site-packages (from fiona>=1.8->geopandas) (2021.5.30)\n",
      "Requirement already satisfied: click>=4.0 in /opt/conda/lib/python3.9/site-packages (from fiona>=1.8->geopandas) (8.0.1)\n",
      "Requirement already satisfied: python-dateutil>=2.7.3 in /opt/conda/lib/python3.9/site-packages (from pandas>=1.0.0->geopandas) (2.8.1)\n",
      "Requirement already satisfied: pytz>=2017.3 in /opt/conda/lib/python3.9/site-packages (from pandas>=1.0.0->geopandas) (2021.1)\n",
      "Requirement already satisfied: numpy>=1.16.5 in /opt/conda/lib/python3.9/site-packages (from pandas>=1.0.0->geopandas) (1.20.3)\n",
      "Requirement already satisfied: pyparsing>=2.0.2 in /opt/conda/lib/python3.9/site-packages (from packaging->geopandas) (2.4.7)\n"
     ]
    }
   ],
   "source": [
    "!pip install geopandas"
   ]
  },
  {
   "cell_type": "code",
   "execution_count": 2,
   "id": "d551f220-701d-4bf6-b467-f6d2bf5eacc2",
   "metadata": {
    "tags": []
   },
   "outputs": [
    {
     "name": "stdout",
     "output_type": "stream",
     "text": [
      "Requirement already satisfied: opencv-python in /opt/conda/lib/python3.9/site-packages (4.6.0.66)\n",
      "Requirement already satisfied: numpy>=1.14.5 in /opt/conda/lib/python3.9/site-packages (from opencv-python) (1.20.3)\n"
     ]
    }
   ],
   "source": [
    "!pip install opencv-python"
   ]
  },
  {
   "cell_type": "code",
   "execution_count": 3,
   "id": "c61420d5-1c7b-4aff-8339-d881de25764d",
   "metadata": {},
   "outputs": [],
   "source": [
    "import geopandas as gpd\n",
    "import numpy as np\n",
    "from numpy import asarray\n",
    "import pandas as pd\n",
    "import matplotlib.pyplot as plt\n",
    "import os\n",
    "from os.path import isfile, join\n",
    "import glob\n",
    "import cv2\n",
    "import PIL.Image\n",
    "import matplotlib.image"
   ]
  },
  {
   "cell_type": "markdown",
   "id": "1e0fc83d",
   "metadata": {},
   "source": [
    "# Load and process data"
   ]
  },
  {
   "cell_type": "markdown",
   "id": "ebdf56a9-e15a-4d6c-b533-9ac42366c301",
   "metadata": {},
   "source": [
    "**Initialize Important Variables**"
   ]
  },
  {
   "cell_type": "code",
   "execution_count": 4,
   "id": "25c64313-a23d-4d2b-841b-4de57060a3d8",
   "metadata": {},
   "outputs": [
    {
     "name": "stdout",
     "output_type": "stream",
     "text": [
      "pwd = /home/jovyan/Micro Project 1/CatMotion/*.jpg\n",
      "Image Width: 80 ; Image Height: 45\n",
      "['1', '2', '3', '4', '5', '6', '7', '8', '9', '10', '11', '12', '13', '14', '15', '16', '17', '18', '19', '20', '21', '22', '23', '24']\n"
     ]
    }
   ],
   "source": [
    "#Create string variable to store directory of images\n",
    "pwd=os.getcwd()\n",
    "Folder='/CatMotion/*.jpg'\n",
    "dirString=pwd+Folder\n",
    "print(\"pwd =\",dirString)\n",
    "\n",
    "#Create variable to show number of images\n",
    "imgTotal=len(glob.glob(dirString))\n",
    "\n",
    "#Create String variables to be used in for loop to load in images\n",
    "picDir='/home/jovyan/Micro Project 1/CatMotion/'\n",
    "name='CatMotion'\n",
    "ext='ss.jpg'\n",
    "\n",
    "#Load test image\n",
    "i=0\n",
    "num=str(i+1)\n",
    "call=picDir+name+num+ext\n",
    "image = PIL.Image.open(call)\n",
    "\n",
    "#Find size of images\n",
    "width, height = image.size\n",
    "x=height\n",
    "y=width\n",
    "print(\"Image Width:\", width,\"; Image Height:\", height)\n",
    "\n",
    "#Create labels for each image\n",
    "labels=[str(i+1) for i in range(24)]\n",
    "print(labels)\n",
    "\n",
    "#Set variables to be used with array indices and means\n",
    "columns=width*height\n",
    "rows=imgTotal\n",
    "axisNum=1 #axis=1, work along the rows, axis=0, work along the rows"
   ]
  },
  {
   "cell_type": "markdown",
   "id": "b150ac8c-8a3f-49ba-aeaa-8464ce398059",
   "metadata": {},
   "source": [
    "**Create Empty Array to Store Flattened B&W Image Data**"
   ]
  },
  {
   "cell_type": "code",
   "execution_count": 5,
   "id": "6fa24d64-7b8d-4419-a88b-b797b4679b06",
   "metadata": {},
   "outputs": [
    {
     "name": "stdout",
     "output_type": "stream",
     "text": [
      "Size of Empty Array: (3600, 24)\n"
     ]
    }
   ],
   "source": [
    "images = np.zeros((columns, rows), int)\n",
    "print(\"Size of Empty Array:\",images.shape)"
   ]
  },
  {
   "cell_type": "markdown",
   "id": "a9ed3a8c-233d-4cb4-a6e5-7de724a7b03e",
   "metadata": {
    "tags": []
   },
   "source": [
    "**Test of Converting Image File to NumPy Array**"
   ]
  },
  {
   "cell_type": "code",
   "execution_count": 6,
   "id": "4532c571-7f9d-4c46-836f-9a4e2f49083e",
   "metadata": {
    "jupyter": {
     "source_hidden": true
    },
    "tags": []
   },
   "outputs": [],
   "source": [
    "#Load test image\n",
    "#i=0\n",
    "#num=str(i+1)\n",
    "#call=picDir+name+num+ext\n",
    "#image = PIL.Image.open(call)\n",
    "\n",
    "#Find size of image\n",
    "#width, height = image.size\n",
    "#print(\"Image Width: \", width,\"Image Height:\", height)\n",
    "\n",
    "#Flatten Grayscale image to true B&W image\n",
    "#image = image.convert('L')\n",
    "\n",
    "#Convert B&W image to numpy array\n",
    "#image=asarray(image)\n",
    "\n",
    "#Flatten B&W image array to 1-dimensional array\n",
    "#(This helps store the image in the \"images\" array)\n",
    "#image=image.flatten()\n",
    "\n",
    "#Store Flattened B&W image to \"images\" array\n",
    "#images[:,i]=image[:,]\n",
    "\n",
    "#Plot reshaped flattened image from \"images\" array (CONVERSION FINISHED)\n",
    "#plt.imshow(images[:,0].reshape(x,y))"
   ]
  },
  {
   "cell_type": "markdown",
   "id": "1834b2c2-f7ba-4aa4-8262-b2fc4f2dbac4",
   "metadata": {
    "tags": []
   },
   "source": [
    "**Convert All Images to \"Images\" Array**"
   ]
  },
  {
   "cell_type": "code",
   "execution_count": 7,
   "id": "54610f8c-9f38-4011-ac04-84d06d50a7d5",
   "metadata": {
    "tags": []
   },
   "outputs": [
    {
     "name": "stdout",
     "output_type": "stream",
     "text": [
      "Shape of Images Array: (3600, 24)\n"
     ]
    }
   ],
   "source": [
    "for i in range(imgTotal):\n",
    "#    print(i) #debugging code\n",
    "    num=str(i+1)\n",
    "    call=picDir+name+num+ext\n",
    "#    print(call) #debugging code\n",
    "    imgtmp=PIL.Image.open(call)\n",
    "    imgtmp=imgtmp.convert('L')\n",
    "    imgtmp=asarray(imgtmp)\n",
    "    imgtmp=imgtmp.flatten()\n",
    "    images[:,i]=imgtmp[:,]\n",
    "print(\"Shape of Images Array:\",images.shape)"
   ]
  },
  {
   "cell_type": "markdown",
   "id": "4d587516-39e0-4235-aecc-19238f825889",
   "metadata": {},
   "source": [
    "**Test Saving Array to Image**"
   ]
  },
  {
   "cell_type": "code",
   "execution_count": 8,
   "id": "32127158-89f0-44f4-99f5-fee3bdc48542",
   "metadata": {
    "jupyter": {
     "source_hidden": true
    },
    "tags": []
   },
   "outputs": [],
   "source": [
    "#matplotlib.image.imsave('test2.jpg', images[:,2-1].reshape(height,width))"
   ]
  },
  {
   "cell_type": "markdown",
   "id": "8f1ddb3c-6d2b-486a-a863-e99d765347c9",
   "metadata": {},
   "source": [
    "**Test Saving Plot to Image**"
   ]
  },
  {
   "cell_type": "code",
   "execution_count": 9,
   "id": "a3d10327-60f8-48a0-a7c6-f3041120f5b1",
   "metadata": {
    "jupyter": {
     "source_hidden": true
    },
    "tags": []
   },
   "outputs": [],
   "source": [
    "#plt.imshow(images[:,imgTotal-1].reshape(x,y), cmap='gray')\n",
    "#plt.savefig('test.jpg', dpi=240, bbox_inches='tight')\n",
    "#plt.show,images.shape"
   ]
  },
  {
   "cell_type": "markdown",
   "id": "552e823b-1017-46a6-a970-8a7e0e774c84",
   "metadata": {},
   "source": [
    "**Centering the Data**"
   ]
  },
  {
   "cell_type": "code",
   "execution_count": 10,
   "id": "120113c4-9cba-4c9c-8536-39fc214e375b",
   "metadata": {},
   "outputs": [
    {
     "name": "stdout",
     "output_type": "stream",
     "text": [
      "Centered Data Shape: (3600, 24)\n"
     ]
    }
   ],
   "source": [
    "#Compute the mean of the axis\n",
    "meanData=images.mean(axisNum, keepdims=True)\n",
    "centeredData = images - meanData\n",
    "print(\"Centered Data Shape:\",centeredData.shape)"
   ]
  },
  {
   "cell_type": "markdown",
   "id": "f73a7f99-a20a-4544-ab42-40598f740d0a",
   "metadata": {},
   "source": [
    "**Display First Image of Centered Data**"
   ]
  },
  {
   "cell_type": "code",
   "execution_count": 11,
   "id": "c0649266-f8be-47d2-87bf-c598465924bf",
   "metadata": {},
   "outputs": [
    {
     "data": {
      "text/plain": [
       "<function matplotlib.pyplot.show(close=None, block=None)>"
      ]
     },
     "execution_count": 11,
     "metadata": {},
     "output_type": "execute_result"
    },
    {
     "data": {
      "image/png": "[encoded data removed]",
      "text/plain": [
       "<Figure size 432x288 with 1 Axes>"
      ]
     },
     "metadata": {
      "needs_background": "light"
     },
     "output_type": "display_data"
    }
   ],
   "source": [
    "plt.imshow(centeredData[:,0].reshape(x,y),cmap='gray')\n",
    "plt.savefig('CenteredData.jpg', dpi=240, bbox_inches='tight')\n",
    "plt.show"
   ]
  },
  {
   "cell_type": "markdown",
   "id": "53bde254-0dd3-4eb0-b81a-1a58b54c195d",
   "metadata": {},
   "source": [
    "Standardize Data"
   ]
  },
  {
   "cell_type": "markdown",
   "id": "3a63452b-bc15-44e2-afc6-78b9e76e0c6f",
   "metadata": {},
   "source": [
    "# SVD Code"
   ]
  },
  {
   "cell_type": "markdown",
   "id": "6c6137dc-eefb-4d59-8047-b8a48ba16100",
   "metadata": {},
   "source": [
    "**Block by Block SVD Code**"
   ]
  },
  {
   "cell_type": "code",
   "execution_count": 12,
   "id": "c321f743-5029-48e5-93c4-9f52844dfb0b",
   "metadata": {
    "tags": []
   },
   "outputs": [],
   "source": [
    "#A=centeredData\n",
    "#print(\"Centered Data Shape:\",A.shape)\n",
    "#AT=A.T\n",
    "#print(\"A Transpose Shape:\",AT.shape)\n",
    "#AAT=np.dot(A,AT)\n",
    "#print(\"A*AT Shape:\",AAT.shape)\n",
    "#D=np.diag(centeredData.sum(axis=1))\n",
    "#print(\"Diagonalized Shape:\",D.shape)\n",
    "#L=D-AAT\n",
    "#print(\"L Shape:\",L.shape)\n",
    "#eVal, eVec = np.linalg.eigh(AAT)\n",
    "#print(\"Eigenvalues Shape:\",eVal.shape)\n",
    "#print(\"Eigenvectors Shape:\",eVec.shape)\n",
    "\n",
    "#ATA=np.dot(AT,A)\n",
    "#print(\"AT*A Shape:\",ATA.shape)\n",
    "#D=np.diag(centeredData.sum(axis=1))\n",
    "#print(\"Diagonalized Shape:\",D.shape)\n",
    "#L=D-ATA\n",
    "#print(\"L Shape:\",L.shape)\n",
    "#eVal1, eVec1 = np.linalg.eigh(ATA)\n",
    "#print(\"Eigenvalues Shape:\",eVal1.shape)\n",
    "#print(\"Eigenvectors Shape:\",eVec1.shape)\n",
    "\n",
    "#mageVal=np.absolute(eVal)\n",
    "#sort=np.argsort(mageVal)\n",
    "#bigIndex=sort[mageVal.size-1]\n",
    "#print(\"Largest Eigenvalue:\",\n",
    "#      mageVal[bigIndex],\n",
    "#      \"at index:\",bigIndex)\n",
    "\n",
    "#eVal.shape\n",
    "\n",
    "#v = eVec[:,bigIndex]\n",
    "#print(\"Shape of VT:\",v.shape)\n",
    "#plt.imshow(v.reshape(45,80), cmap='gray')\n",
    "#plt.savefig('LargestEigenvector.jpg', dpi=240, bbox_inches='tight')\n",
    "#plt.show"
   ]
  },
  {
   "cell_type": "markdown",
   "id": "561beddc-f094-431c-a449-da798c9e1481",
   "metadata": {},
   "source": [
    "**Single Line SVD Code**"
   ]
  },
  {
   "cell_type": "code",
   "execution_count": 13,
   "id": "e4417f5d-4e1b-4b39-8907-871df1c1cdef",
   "metadata": {},
   "outputs": [],
   "source": [
    "U, S, VT = np.linalg.svd(centeredData)"
   ]
  },
  {
   "cell_type": "code",
   "execution_count": 14,
   "id": "957e0648-1b24-43ad-959c-29d258271fe2",
   "metadata": {},
   "outputs": [
    {
     "name": "stdout",
     "output_type": "stream",
     "text": [
      "Shape of U: (3600, 3600)\n",
      "Shape of S: (24,)\n",
      "Shape of VT: (24, 24)\n"
     ]
    }
   ],
   "source": [
    "print(\"Shape of U:\",U.shape)\n",
    "print(\"Shape of S:\",S.shape)\n",
    "print(\"Shape of VT:\",VT.shape)\n",
    "#print(\"S:\",S)"
   ]
  },
  {
   "cell_type": "markdown",
   "id": "6336e881-ba30-4de9-9435-12a464d83aba",
   "metadata": {},
   "source": [
    "# Plot Singular Values"
   ]
  },
  {
   "cell_type": "code",
   "execution_count": 15,
   "id": "9b407a2d-9816-4b58-810c-660904b1aabe",
   "metadata": {},
   "outputs": [
    {
     "data": {
      "image/png": "[encoded data removed]",
      "text/plain": [
       "<Figure size 432x288 with 1 Axes>"
      ]
     },
     "metadata": {
      "needs_background": "light"
     },
     "output_type": "display_data"
    }
   ],
   "source": [
    "plt.plot(S, c='black')\n",
    "plt.xticks(range(24))\n",
    "plt.title('Singular values')\n",
    "plt.ylabel('sigma_k')\n",
    "plt.xlabel('k')\n",
    "plt.savefig('singularvalues.jpg', dpi=150, bbox_inches='tight')\n",
    "plt.show() "
   ]
  },
  {
   "cell_type": "markdown",
   "id": "0ddc815e-0e5a-43d7-b071-199538751fbf",
   "metadata": {},
   "source": [
    "# Variance Explained By Principal Components"
   ]
  },
  {
   "cell_type": "markdown",
   "id": "57e14238-7347-4c7f-8ceb-1ed6d5328b44",
   "metadata": {},
   "source": [
    "*First PC Explains:*"
   ]
  },
  {
   "cell_type": "code",
   "execution_count": 16,
   "id": "0b02d150-b848-4e7d-b810-9edc506d859b",
   "metadata": {},
   "outputs": [
    {
     "data": {
      "text/plain": [
       "0.3462183465661035"
      ]
     },
     "execution_count": 16,
     "metadata": {},
     "output_type": "execute_result"
    }
   ],
   "source": [
    "S[0]**2/sum([s**2 for s in S])"
   ]
  },
  {
   "cell_type": "markdown",
   "id": "81f839e1-bf29-4ad0-8787-7f7a1cf590bd",
   "metadata": {},
   "source": [
    "*First Two PCs Explains:*"
   ]
  },
  {
   "cell_type": "code",
   "execution_count": 17,
   "id": "def61f7c-da35-4dcd-ba9b-7550edc29a19",
   "metadata": {},
   "outputs": [
    {
     "data": {
      "text/plain": [
       "0.6109065466455551"
      ]
     },
     "execution_count": 17,
     "metadata": {},
     "output_type": "execute_result"
    }
   ],
   "source": [
    "(S[0]**2+S[1]**2)/sum([s**2 for s in S])"
   ]
  },
  {
   "cell_type": "markdown",
   "id": "ec663cc6-39da-4dbd-97d0-7b37ac025308",
   "metadata": {},
   "source": [
    "*First Three PCs Explains:*"
   ]
  },
  {
   "cell_type": "code",
   "execution_count": 18,
   "id": "acdaec22-5b58-4e74-ac39-d942adedd610",
   "metadata": {},
   "outputs": [
    {
     "data": {
      "text/plain": [
       "0.6742146849404704"
      ]
     },
     "execution_count": 18,
     "metadata": {},
     "output_type": "execute_result"
    }
   ],
   "source": [
    "(S[0]**2+S[1]**2+S[2]**2)/sum([s**2 for s in S])"
   ]
  },
  {
   "cell_type": "markdown",
   "id": "2b0d8208-0f34-49ff-b459-87ba9ad9e4d5",
   "metadata": {},
   "source": [
    "*First Four PCs Explains:*"
   ]
  },
  {
   "cell_type": "code",
   "execution_count": 19,
   "id": "2a219e34-b7ef-4f98-9b00-49b60900f340",
   "metadata": {},
   "outputs": [
    {
     "data": {
      "text/plain": [
       "0.7233602582600303"
      ]
     },
     "execution_count": 19,
     "metadata": {},
     "output_type": "execute_result"
    }
   ],
   "source": [
    "(S[0]**2+S[1]**2+S[2]**2+S[3]**2)/sum([s**2 for s in S])"
   ]
  },
  {
   "cell_type": "markdown",
   "id": "88be22cd-d25e-40b2-87ee-264de40f7717",
   "metadata": {},
   "source": [
    "*First Five PCs Explains:*"
   ]
  },
  {
   "cell_type": "code",
   "execution_count": 20,
   "id": "6896ea3e-776f-457a-aea0-50898091d0d0",
   "metadata": {},
   "outputs": [
    {
     "data": {
      "text/plain": [
       "0.7647421966394639"
      ]
     },
     "execution_count": 20,
     "metadata": {},
     "output_type": "execute_result"
    }
   ],
   "source": [
    "(S[0]**2+S[1]**2+S[2]**2+S[3]**2+S[4]**2)/sum([s**2 for s in S])"
   ]
  },
  {
   "cell_type": "markdown",
   "id": "62e10223-4438-4468-bf67-03407e9cad0a",
   "metadata": {
    "tags": []
   },
   "source": [
    "**Test to See What H/Vstack Does**"
   ]
  },
  {
   "cell_type": "code",
   "execution_count": 21,
   "id": "064dec43-c63f-48a9-92de-40452001252f",
   "metadata": {
    "jupyter": {
     "source_hidden": true
    },
    "tags": []
   },
   "outputs": [],
   "source": [
    "#test=np.array([[1,2,3],[4,5,6],[7,8,9],[10,11,12],[13,14,15],[16,17,18],[19,20,21]])\n",
    "#U1,S1,VT1=np.linalg.svd(test)\n",
    "#print(\"test Shape:\",test.shape)\n",
    "#print(\"U1 Shape:\",U1.shape)\n",
    "#print(\"S1 Shape:\",S1.shape)\n",
    "#print(\"V1 Shape:\",VT1.shape)\n",
    "#print(np.diag(S1))\n",
    "#D,N=test.shape\n",
    "#print(\"D =\",D,\"; N =\",N)\n",
    "#Sigma1=np.hstack([np.diag(S1),np.zeros((N, abs(N-D)))])\n",
    "#print(\"Sigma1 Shape:\",Sigma1.shape)\n",
    "#print(Sigma1)"
   ]
  },
  {
   "cell_type": "markdown",
   "id": "3f937fe5-8546-4508-92e8-24a00e68e4de",
   "metadata": {},
   "source": [
    "# Create Score Plot"
   ]
  },
  {
   "cell_type": "code",
   "execution_count": 45,
   "id": "ff1ab1f1-df2d-42b0-8047-028ae70066e0",
   "metadata": {},
   "outputs": [
    {
     "name": "stdout",
     "output_type": "stream",
     "text": [
      "Shape of np.diag(S): (24, 24)\n",
      "D =  3600 ; N = 24\n",
      "Shape of Sigma: (24, 24)\n",
      "Shape of V: (24, 24)\n",
      "Shape of Reduced Data = (2, 24)\n"
     ]
    },
    {
     "data": {
      "text/plain": [
       "(<function matplotlib.pyplot.show(close=None, block=None)>, (3600, 24))"
      ]
     },
     "execution_count": 45,
     "metadata": {},
     "output_type": "execute_result"
    },
    {
     "data": {
      "image/png": "[encoded data removed]",
      "text/plain": [
       "<Figure size 432x288 with 1 Axes>"
      ]
     },
     "metadata": {
      "needs_background": "light"
     },
     "output_type": "display_data"
    }
   ],
   "source": [
    "print(\"Shape of np.diag(S):\",np.diag(S).shape)\n",
    "D, N = centeredData.shape\n",
    "print(\"D = \",D,\"; N =\",N)\n",
    "Sigma = np.hstack([np.diag(S), np.zeros((N, 0))])\n",
    "print(\"Shape of Sigma:\",Sigma.shape)\n",
    "print(\"Shape of V:\",VT.shape)\n",
    "reducedData = (Sigma @ VT)[:2,:]\n",
    "print(\"Shape of Reduced Data =\", reducedData.shape)\n",
    "\n",
    "plt.scatter(\n",
    "    reducedData[0,:], \n",
    "    reducedData[1,:],\n",
    "    s=5\n",
    ")\n",
    "for i in range(24):\n",
    "    plt.annotate(labels[i],(reducedData[0,i],reducedData[1,i]))\n",
    "plt.title('Score Plot of First Two Principal Components')\n",
    "plt.ylabel('PC2')\n",
    "plt.xlabel('PC1')\n",
    "plt.savefig('ScorePlot.jpg', dpi=240, bbox_inches='tight')\n",
    "plt.show,images.shape"
   ]
  },
  {
   "cell_type": "code",
   "execution_count": 46,
   "id": "c40f2c9e-6180-4dc2-a6e6-c8d49e99d820",
   "metadata": {},
   "outputs": [
    {
     "data": {
      "text/plain": [
       "array([[-1.42679282e-01, -1.67727490e-01, -1.97359082e-01,\n",
       "        -2.43598270e-01, -2.86739721e-01, -3.06765058e-01,\n",
       "        -2.94467145e-01, -2.69171754e-01, -2.21906033e-01,\n",
       "        -1.50580908e-01, -3.39124038e-02,  4.09320605e-02,\n",
       "         1.14832043e-01,  1.98973332e-01,  2.45374589e-01,\n",
       "         2.26334150e-01,  2.05746411e-01,  1.98614736e-01,\n",
       "         1.93363106e-01,  1.91717712e-01,  1.87786265e-01,\n",
       "         1.85132844e-01,  1.71499494e-01,  1.54600403e-01],\n",
       "       [-2.46714407e-01, -2.43906497e-01, -2.30418787e-01,\n",
       "        -2.06183257e-01, -1.45176798e-01, -4.83846890e-02,\n",
       "         5.37104022e-02,  1.58685904e-01,  2.21328177e-01,\n",
       "         3.17631762e-01,  3.59201943e-01,  3.56467279e-01,\n",
       "         3.44786657e-01,  2.28037108e-01,  9.09423090e-02,\n",
       "        -3.86965089e-03, -5.10144302e-02, -8.20280620e-02,\n",
       "        -7.94267771e-02, -1.01099134e-01, -1.42002169e-01,\n",
       "        -1.69062218e-01, -1.86376617e-01, -1.95128047e-01],\n",
       "       [ 3.67759845e-01,  3.92989563e-01,  2.88482317e-01,\n",
       "         3.55954368e-02, -1.26693859e-01, -2.14819545e-01,\n",
       "        -2.28210555e-01, -1.19195757e-01,  8.32206183e-03,\n",
       "        -7.20303196e-02, -1.45895258e-01,  3.15089746e-03,\n",
       "         2.08299518e-01,  4.73210783e-01,  2.39592216e-01,\n",
       "        -3.71213127e-02, -1.33004567e-01, -1.50491756e-01,\n",
       "        -1.45416925e-01, -1.27294828e-01, -1.20822220e-01,\n",
       "        -1.31674945e-01, -1.35389501e-01, -1.29341291e-01],\n",
       "       [ 5.09663433e-02,  4.78738026e-02,  2.61919847e-02,\n",
       "        -2.07819692e-02, -2.27214681e-02,  1.35290305e-02,\n",
       "        -3.81945851e-03, -5.79423892e-02, -2.58612056e-01,\n",
       "        -1.83184514e-01,  1.42313199e-01,  3.80818073e-01,\n",
       "         3.45053940e-01, -6.59849622e-02, -2.94424558e-01,\n",
       "        -3.71523159e-01, -3.01932914e-01, -2.29804163e-01,\n",
       "        -1.38225068e-01,  2.74023166e-02,  1.87552375e-01,\n",
       "         2.52110879e-01,  2.55322590e-01,  2.19822147e-01],\n",
       "       [-7.04826031e-02, -2.83067588e-02, -1.73126555e-01,\n",
       "        -2.58523291e-01, -7.04838811e-02,  1.46180109e-02,\n",
       "         1.83299189e-01,  4.00375545e-01,  3.37055743e-01,\n",
       "        -1.55279266e-01, -4.90164522e-01, -2.94628318e-01,\n",
       "         2.15833628e-01,  2.90505486e-01, -1.72465480e-01,\n",
       "        -1.16766017e-01, -1.08429068e-01, -2.57564372e-02,\n",
       "         6.42954015e-02,  8.37303621e-02,  1.07996911e-01,\n",
       "         9.39233707e-02,  9.70043715e-02,  7.57741789e-02],\n",
       "       [ 2.10407791e-01,  2.26231246e-01,  1.42724410e-01,\n",
       "        -2.35794107e-01, -2.84706291e-01, -3.39519531e-01,\n",
       "        -3.13916889e-01,  1.41222784e-01,  3.10395795e-01,\n",
       "         3.39836617e-01,  1.08791462e-01, -5.37913282e-04,\n",
       "        -6.95198021e-02, -3.37558755e-01, -3.32539491e-01,\n",
       "        -1.13114464e-01,  8.34053885e-02,  1.31010087e-01,\n",
       "         1.12889145e-01,  7.26978486e-02,  4.62338511e-02,\n",
       "         2.56887155e-02,  2.99720139e-02,  4.57000895e-02],\n",
       "       [-1.44996156e-01, -1.51654365e-01,  2.32408126e-02,\n",
       "         1.11626117e-01,  3.44515115e-02, -4.91778090e-02,\n",
       "        -1.16317345e-01, -1.89386588e-01,  1.73387888e-01,\n",
       "         4.58875791e-01,  1.21543141e-01, -3.38283877e-01,\n",
       "        -2.67988021e-01,  2.26473669e-01,  1.65416086e-01,\n",
       "        -1.19860542e-01, -2.57755030e-01, -2.79774911e-01,\n",
       "        -2.08208996e-01, -5.09960033e-03,  1.93588848e-01,\n",
       "         2.29799186e-01,  2.15496840e-01,  1.74603352e-01],\n",
       "       [ 1.06594971e-01,  1.67664143e-01, -1.82124336e-01,\n",
       "        -2.47179975e-01,  4.18086505e-01, -3.53465993e-01,\n",
       "         1.89590532e-01, -8.12808647e-02,  6.42731962e-02,\n",
       "        -2.70005305e-01,  5.22527554e-01, -3.82776805e-01,\n",
       "         1.03054601e-01,  2.74648147e-02, -7.73812049e-02,\n",
       "         7.97752531e-02, -7.25361951e-03, -1.19746412e-04,\n",
       "        -3.99423177e-02, -3.98375722e-02, -1.72018402e-02,\n",
       "         5.48121768e-03,  7.10987017e-03,  6.94692005e-03],\n",
       "       [-3.39923068e-02, -3.46337530e-02, -1.87029051e-03,\n",
       "        -1.00824299e-01,  2.04161724e-01, -1.53947836e-01,\n",
       "        -2.49670174e-01,  3.40076726e-01,  3.09466621e-01,\n",
       "        -3.73875558e-01, -1.06718977e-02,  3.66254339e-01,\n",
       "        -3.50877887e-01, -1.54747338e-01,  3.83848489e-01,\n",
       "         6.94275264e-02, -1.62633736e-01, -1.27253702e-01,\n",
       "        -1.01787164e-01, -6.84310237e-02,  3.22117278e-02,\n",
       "         6.56495100e-02,  8.61564640e-02,  6.79638379e-02],\n",
       "       [ 1.16883584e-01,  5.50828864e-02, -1.63810075e-02,\n",
       "         3.74565826e-02, -5.37312193e-01, -1.04812766e-02,\n",
       "         2.50095066e-01,  4.93981999e-01, -3.49944386e-01,\n",
       "        -8.34022220e-02,  2.98666630e-01, -1.85712358e-01,\n",
       "        -2.20135643e-01,  4.65187581e-02,  1.77193314e-01,\n",
       "        -5.03122081e-02,  7.74109777e-02, -3.25942838e-02,\n",
       "        -1.54786922e-01, -8.18805411e-02, -8.88866989e-03,\n",
       "         5.36469850e-02,  7.01220595e-02,  5.47728676e-02],\n",
       "       [-8.50692434e-02, -1.02005063e-01,  8.60559104e-02,\n",
       "         2.02585489e-01, -8.39280189e-02,  9.28358610e-03,\n",
       "        -6.78754495e-02, -6.78337715e-02,  1.78476070e-01,\n",
       "        -2.81810856e-01,  2.35948572e-01,  1.54999777e-01,\n",
       "        -4.06506984e-01,  5.25315013e-01, -4.38142137e-01,\n",
       "        -1.61137623e-01,  4.91995979e-02,  2.01757576e-01,\n",
       "         1.36462991e-01,  3.90184936e-02, -3.14901744e-02,\n",
       "        -2.39741105e-02, -2.40178657e-02, -4.53117783e-02],\n",
       "       [ 3.15406056e-02,  1.25320957e-01,  1.13551974e-02,\n",
       "        -4.66112489e-01,  3.07073839e-01, -2.10851735e-02,\n",
       "         5.56988585e-02,  1.24486866e-01, -3.80134206e-01,\n",
       "         3.04055508e-01, -1.79902915e-01,  2.36676787e-01,\n",
       "        -3.11917996e-01,  2.71276946e-01, -2.27936031e-01,\n",
       "         1.78119417e-01,  1.59276138e-01, -6.58389634e-02,\n",
       "        -1.55726328e-01, -1.13073815e-01,  5.20276001e-03,\n",
       "         6.37671480e-02,  4.25694621e-02,  5.30742752e-03],\n",
       "       [-2.58088254e-02, -1.64659845e-02, -2.19080632e-01,\n",
       "         2.26540555e-01,  3.11352331e-01,  7.78870879e-02,\n",
       "        -6.04259918e-01,  4.20133583e-01, -2.96556792e-01,\n",
       "         9.63712812e-02,  7.53367155e-02, -1.93045473e-01,\n",
       "         1.53778241e-01,  9.38564537e-02, -1.46324402e-02,\n",
       "        -1.97974676e-01,  1.03328458e-03,  1.32971510e-01,\n",
       "         1.40890804e-01, -3.16547738e-02, -4.17671636e-02,\n",
       "        -2.03790690e-02, -3.16135726e-02, -3.69125276e-02],\n",
       "       [ 1.12155815e-01,  1.60154806e-02, -1.13196021e-01,\n",
       "        -8.35652497e-02, -1.48099392e-01,  4.83404620e-01,\n",
       "        -3.16604086e-01, -8.60530085e-02,  2.18347534e-01,\n",
       "        -1.48490396e-01,  1.05930191e-01, -1.00229994e-01,\n",
       "         1.19769076e-01, -8.43293912e-03, -1.83736236e-01,\n",
       "         3.33537900e-01,  2.43780190e-01, -7.36453845e-02,\n",
       "        -3.23474170e-01, -3.62715772e-01, -6.20113614e-02,\n",
       "         1.35793963e-01,  1.45202484e-01,  9.63167570e-02],\n",
       "       [-2.06884573e-02,  8.61397249e-03, -2.70067464e-01,\n",
       "         5.68049701e-01,  7.23591662e-04, -4.99517449e-01,\n",
       "         9.76384808e-02,  9.71589918e-02,  2.55721564e-02,\n",
       "         6.64597323e-02, -1.88444437e-01,  1.23482190e-01,\n",
       "         7.86507030e-02, -1.46275142e-02, -2.36993429e-01,\n",
       "         3.17924017e-01,  1.04201896e-01, -3.10126918e-02,\n",
       "        -2.71360489e-01, -1.36681940e-01,  6.40754205e-02,\n",
       "         7.64602649e-02,  4.26923064e-02, -2.30955360e-03],\n",
       "       [ 2.93839746e-01,  3.33486072e-01, -6.88547702e-01,\n",
       "         3.42756479e-02, -1.03324197e-01,  2.14440170e-01,\n",
       "        -4.46175946e-03, -1.29922931e-01,  4.40298799e-02,\n",
       "         6.08659311e-02,  1.03865944e-02,  1.22456023e-01,\n",
       "        -2.18568045e-01,  2.37058196e-02,  2.31017187e-02,\n",
       "         2.58430676e-02, -1.77646764e-01, -1.40971910e-01,\n",
       "         1.03905039e-01,  2.99641732e-01,  1.10037768e-01,\n",
       "        -6.85667249e-02, -9.80475178e-02, -6.99576563e-02],\n",
       "       [-6.22601966e-02, -1.12752956e-01,  2.72322010e-01,\n",
       "        -2.46291093e-03, -1.70325388e-02,  5.68535651e-02,\n",
       "        -1.52889375e-01,  1.57816212e-01, -6.78012096e-02,\n",
       "        -1.04180794e-01,  1.12333609e-01, -9.69783204e-02,\n",
       "         5.74451630e-02, -9.48617296e-03, -1.83895278e-01,\n",
       "         3.65226116e-01, -1.96553528e-02, -3.75139705e-01,\n",
       "        -1.06991372e-01,  4.97687294e-01,  3.42449369e-01,\n",
       "        -4.29877695e-02, -2.29772460e-01, -2.77846927e-01],\n",
       "       [-4.79481943e-04,  4.59498285e-02, -6.88637900e-02,\n",
       "        -3.56616498e-02,  7.16553996e-02,  2.43240055e-02,\n",
       "         2.18981178e-02, -7.10349878e-02,  8.20546150e-02,\n",
       "        -3.73186166e-02, -4.42520542e-02,  2.30504454e-02,\n",
       "        -1.15690196e-03, -2.92149078e-02,  1.52082295e-01,\n",
       "        -4.32907661e-01,  3.82076511e-01,  2.53389563e-01,\n",
       "        -4.42015376e-01,  3.42976943e-02,  4.23068309e-01,\n",
       "         1.51824277e-01, -1.43105546e-01, -3.59660087e-01],\n",
       "       [-5.46189245e-01,  5.28196586e-01,  5.57456481e-02,\n",
       "        -4.21738003e-03, -9.83643573e-02,  8.05898077e-02,\n",
       "        -5.78739519e-03,  5.94316887e-03, -4.02853303e-02,\n",
       "        -5.72679101e-03,  4.60683106e-02, -2.01549111e-02,\n",
       "        -2.30022811e-03, -3.17688281e-02, -1.39255778e-02,\n",
       "         1.90996243e-01, -3.46063152e-01,  2.40483015e-01,\n",
       "         9.03292461e-02, -2.55346297e-01,  2.37699027e-01,\n",
       "         1.34591358e-01, -6.12768014e-02, -1.79236117e-01],\n",
       "       [ 4.77338757e-01, -4.17228770e-01,  1.43745667e-02,\n",
       "        -5.92369283e-02, -3.28604873e-03,  1.12685641e-02,\n",
       "         3.94699753e-02,  8.53509152e-03, -5.19899261e-02,\n",
       "         4.22890801e-02, -1.64569482e-03, -3.61260323e-03,\n",
       "        -1.25935381e-02, -1.72552610e-03, -3.45032482e-02,\n",
       "         1.78268710e-01, -4.28907458e-01,  3.27959310e-01,\n",
       "         8.63615426e-02, -3.02115124e-01,  3.36198314e-01,\n",
       "         8.49397239e-02, -1.10772250e-01, -1.79386519e-01],\n",
       "       [-5.80374280e-02,  2.01256452e-02,  1.61139941e-02,\n",
       "        -3.74680438e-02,  8.60149530e-03,  4.65686690e-02,\n",
       "        -4.33396257e-02,  1.52195848e-02, -2.03795116e-02,\n",
       "         1.18917773e-02,  2.82927101e-03, -7.96935605e-03,\n",
       "         1.74779104e-02,  2.18987155e-02, -1.99573337e-02,\n",
       "         7.09567948e-02, -2.08520090e-01,  4.07487536e-01,\n",
       "        -4.64833951e-01,  2.32055308e-01,  9.58754726e-02,\n",
       "        -5.41792518e-01, -1.31489870e-02,  4.48344671e-01],\n",
       "       [ 3.24240202e-02, -2.05752849e-02,  1.38561837e-02,\n",
       "        -2.34467091e-02, -9.02542553e-04,  2.25465541e-02,\n",
       "        -1.37233310e-02,  8.95440991e-03, -9.36865630e-03,\n",
       "         2.50045834e-02, -1.11299189e-02, -1.13477254e-02,\n",
       "         1.04848871e-02, -1.56568251e-02, -4.93216615e-03,\n",
       "         9.52845954e-02, -2.52375282e-01,  3.12605470e-01,\n",
       "        -2.93792029e-01,  3.92938946e-01, -5.42323105e-01,\n",
       "         4.24132447e-01,  1.55209956e-01, -2.93868477e-01],\n",
       "       [ 1.01295611e-02,  1.52457071e-03,  3.40306104e-03,\n",
       "         1.93026615e-03,  5.99836273e-04,  1.09207927e-03,\n",
       "         1.10957212e-04, -6.12622523e-03, -7.03259418e-03,\n",
       "         7.41252322e-03,  3.42723553e-03, -4.54839755e-03,\n",
       "         4.06876693e-03, -9.01634664e-03,  4.35570704e-05,\n",
       "         1.10928773e-02, -1.74644821e-04, -1.63615929e-02,\n",
       "         4.02637257e-02, -1.30689914e-02,  9.23230931e-02,\n",
       "        -4.32865303e-01,  7.69451970e-01, -4.57679985e-01],\n",
       "       [-2.04124145e-01, -2.04124145e-01, -2.04124145e-01,\n",
       "        -2.04124145e-01, -2.04124145e-01, -2.04124145e-01,\n",
       "        -2.04124145e-01, -2.04124145e-01, -2.04124145e-01,\n",
       "        -2.04124145e-01, -2.04124145e-01, -2.04124145e-01,\n",
       "        -2.04124145e-01, -2.04124145e-01, -2.04124145e-01,\n",
       "        -2.04124145e-01, -2.04124145e-01, -2.04124145e-01,\n",
       "        -2.04124145e-01, -2.04124145e-01, -2.04124145e-01,\n",
       "        -2.04124145e-01, -2.04124145e-01, -2.04124145e-01]])"
      ]
     },
     "execution_count": 46,
     "metadata": {},
     "output_type": "execute_result"
    }
   ],
   "source": [
    "VT"
   ]
  },
  {
   "cell_type": "markdown",
   "id": "5b6e208c-9a9a-4040-9a9d-d76cbd6dd0a3",
   "metadata": {},
   "source": [
    "# Create Loading Plots"
   ]
  },
  {
   "cell_type": "code",
   "execution_count": 25,
   "id": "110f8cfe-ea2f-4b12-8dd2-b9c5c6777155",
   "metadata": {},
   "outputs": [
    {
     "name": "stdout",
     "output_type": "stream",
     "text": [
      "PC1:  (3600,)  \n",
      " [-0.00169451 -0.00157899 -0.00172376 ... -0.0033406  -0.0038699\n",
      " -0.00291147]\n"
     ]
    },
    {
     "data": {
      "text/plain": [
       "(<function matplotlib.pyplot.show(close=None, block=None)>, (3600, 24))"
      ]
     },
     "execution_count": 25,
     "metadata": {},
     "output_type": "execute_result"
    },
    {
     "data": {
      "image/png": "[encoded data removed]",
      "text/plain": [
       "<Figure size 432x288 with 1 Axes>"
      ]
     },
     "metadata": {
      "needs_background": "light"
     },
     "output_type": "display_data"
    }
   ],
   "source": [
    "PC1 = U[:,0]\n",
    "print(\"PC1: \", PC1.shape, \" \\n\", PC1)\n",
    "plt.bar(range(x*y), PC1)\n",
    "plt.savefig('PC1LoadPlot.jpg', dpi=240, bbox_inches='tight')\n",
    "plt.show,images.shape"
   ]
  },
  {
   "cell_type": "code",
   "execution_count": 26,
   "id": "8fd59acd-7049-4905-83be-129233f90da6",
   "metadata": {},
   "outputs": [
    {
     "name": "stdout",
     "output_type": "stream",
     "text": [
      "PC2:  (3600,)  \n",
      " [ 1.26534239e-05 -3.02601264e-05  3.00161843e-05 ...  3.88347341e-03\n",
      "  4.33699327e-03  5.46249977e-03]\n"
     ]
    },
    {
     "data": {
      "text/plain": [
       "(<function matplotlib.pyplot.show(close=None, block=None)>, (3600, 24))"
      ]
     },
     "execution_count": 26,
     "metadata": {},
     "output_type": "execute_result"
    },
    {
     "data": {
      "image/png": "[encoded data removed]",
      "text/plain": [
       "<Figure size 432x288 with 1 Axes>"
      ]
     },
     "metadata": {
      "needs_background": "light"
     },
     "output_type": "display_data"
    }
   ],
   "source": [
    "PC2 = U[:,1]\n",
    "print(\"PC2: \", PC2.shape, \" \\n\", PC2)\n",
    "plt.bar(range(x*y), PC2)\n",
    "plt.savefig('PC2LoadPlot.jpg', dpi=240, bbox_inches='tight')\n",
    "plt.show,images.shape"
   ]
  },
  {
   "cell_type": "markdown",
   "id": "8fe5b642-296f-4aeb-8123-e442220f6c70",
   "metadata": {},
   "source": [
    "# Create Reconstruction of the Data"
   ]
  },
  {
   "cell_type": "code",
   "execution_count": 27,
   "id": "5cb05e56-42e8-42f9-9d05-8f2b8c0061ca",
   "metadata": {},
   "outputs": [
    {
     "data": {
      "text/plain": [
       "<function matplotlib.pyplot.show(close=None, block=None)>"
      ]
     },
     "execution_count": 27,
     "metadata": {},
     "output_type": "execute_result"
    },
    {
     "data": {
      "image/png": "[encoded data removed]",
      "text/plain": [
       "<Figure size 432x288 with 1 Axes>"
      ]
     },
     "metadata": {
      "needs_background": "light"
     },
     "output_type": "display_data"
    }
   ],
   "source": [
    "plt.imshow(PC1.reshape(x,y), cmap='gray')\n",
    "plt.savefig('ReconstructedDataPC1.jpg', dpi=240, bbox_inches='tight')\n",
    "plt.show"
   ]
  },
  {
   "cell_type": "code",
   "execution_count": 47,
   "id": "0af90c18-f1e8-4252-b1ed-7c2ec5ddecfa",
   "metadata": {},
   "outputs": [
    {
     "data": {
      "text/plain": [
       "<function matplotlib.pyplot.show(close=None, block=None)>"
      ]
     },
     "execution_count": 47,
     "metadata": {},
     "output_type": "execute_result"
    },
    {
     "data": {
      "image/png": "[encoded data removed]",
      "text/plain": [
       "<Figure size 432x288 with 1 Axes>"
      ]
     },
     "metadata": {
      "needs_background": "light"
     },
     "output_type": "display_data"
    }
   ],
   "source": [
    "plt.imshow(PC2.reshape(x,y), cmap='gray')\n",
    "plt.savefig('ReconstructedDataPC2.jpg', dpi=240, bbox_inches='tight')\n",
    "plt.show"
   ]
  },
  {
   "cell_type": "code",
   "execution_count": 70,
   "id": "3f51ad51-17b7-413c-bbb6-c4bdccd91a68",
   "metadata": {},
   "outputs": [
    {
     "data": {
      "text/plain": [
       "<function matplotlib.pyplot.show(close=None, block=None)>"
      ]
     },
     "execution_count": 70,
     "metadata": {},
     "output_type": "execute_result"
    },
    {
     "data": {
      "image/png": "[encoded data removed]",
      "text/plain": [
       "<Figure size 432x288 with 1 Axes>"
      ]
     },
     "metadata": {
      "needs_background": "light"
     },
     "output_type": "display_data"
    }
   ],
   "source": [
    "PCx = U[:,2]\n",
    "plt.imshow(PCx.reshape(x,y), cmap='gray')\n",
    "plt.savefig('ReconstructedDataPC2.jpg', dpi=240, bbox_inches='tight')\n",
    "plt.show"
   ]
  },
  {
   "cell_type": "code",
   "execution_count": null,
   "id": "cb0da7d7-1c03-4b97-b6ef-03373bc2b05c",
   "metadata": {},
   "outputs": [],
   "source": []
  }
 ],
 "metadata": {
  "kernelspec": {
   "display_name": "Python 3 (ipykernel)",
   "language": "python",
   "name": "python3"
  },
  "language_info": {
   "codemirror_mode": {
    "name": "ipython",
    "version": 3
   },
   "file_extension": ".py",
   "mimetype": "text/x-python",
   "name": "python",
   "nbconvert_exporter": "python",
   "pygments_lexer": "ipython3",
   "version": "3.11.1"
  }
 },
 "nbformat": 4,
 "nbformat_minor": 5
}
